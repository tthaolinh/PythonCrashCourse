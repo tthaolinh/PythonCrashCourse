{
 "cells": [
  {
   "cell_type": "markdown",
   "id": "15eada36",
   "metadata": {},
   "source": [
    "4-1. Pizzas: Think of at least three kinds of your favorite pizza. Store these pizza names in a list, and then use a for loop to print the name of each pizza.\n",
    "\n",
    "- Modify your for loop to print a sentence using the name of the pizza, instead of printing just the name of the pizza. For each pizza, you should have one line of output containing a simple statement like I like pepperoni pizza.\n",
    "- Add a line at the end of your program, outside the for loop, that states how much you like pizza. The output should consist of three or more lines about the kinds of pizza you like and then an additional sentence, such as I really love pizza!"
   ]
  },
  {
   "cell_type": "code",
   "execution_count": null,
   "id": "bca9d5a5",
   "metadata": {},
   "outputs": [],
   "source": [
    "pizzas = ['cheese', 'veggie', 'pepperoni']\n",
    "for pizza in pizzas:\n",
    "    print(pizza)\n",
    "    print(f\" I like {pizza.lower()} pizza. \\n\")\n",
    "\n",
    "print(\"\\n I really love pizza!\")"
   ]
  },
  {
   "cell_type": "markdown",
   "id": "3db0c461",
   "metadata": {},
   "source": [
    "4-2. Animals: Think of at least three different animals that have a common characteristic. Store the names of these animals in a list, and then use a for loop to print out the name of each animal.\n",
    "\n",
    "- Modify your program to print a statement about each animal, such as A dog would make a great pet.\n",
    "- Add a line at the end of your program, stating what these animals have in common. You could print a sentence, such as Any of these animals would make a great pet!"
   ]
  },
  {
   "cell_type": "code",
   "execution_count": null,
   "id": "3fa18e1e",
   "metadata": {},
   "outputs": [],
   "source": [
    "animals = ['cat', 'dog', 'rabbit']\n",
    "for animal in animals:\n",
    "    print(animal)\n",
    "    print(f\"A {animal.title()} would make a great pet\")\n",
    "\n",
    "print(\"\\nAny of these animals would make a great pet!\")"
   ]
  },
  {
   "cell_type": "markdown",
   "id": "5146e871",
   "metadata": {},
   "source": [
    "4-3. Counting to Twenty: Use a for loop to print the numbers from 1 to 20, inclusive."
   ]
  },
  {
   "cell_type": "code",
   "execution_count": null,
   "id": "6b5ee7a7",
   "metadata": {},
   "outputs": [],
   "source": [
    "for value in range (1, 20):\n",
    "    print(value)"
   ]
  },
  {
   "cell_type": "markdown",
   "id": "f24d4ca5",
   "metadata": {},
   "source": [
    "4-4. One Million: Make a list of the numbers from one to one million, and then use a for loop to print the numbers. (If the output is taking too long, stop it by pressing CTRL-C or by closing the output window.)"
   ]
  },
  {
   "cell_type": "code",
   "execution_count": 11,
   "id": "cbb97d1c",
   "metadata": {},
   "outputs": [
    {
     "name": "stdout",
     "output_type": "stream",
     "text": [
      "[1, 2, 3, 4, 5, 6, 7, 8, 9, 10, 11, 12, 13, 14, 15, 16, 17, 18, 19, 20, 21, 22, 23, 24, 25, 26, 27, 28, 29, 30, 31, 32, 33, 34, 35, 36, 37, 38, 39, 40, 41, 42, 43, 44, 45, 46, 47, 48, 49, 50, 51, 52, 53, 54, 55, 56, 57, 58, 59, 60, 61, 62, 63, 64, 65, 66, 67, 68, 69, 70, 71, 72, 73, 74, 75, 76, 77, 78, 79, 80, 81, 82, 83, 84, 85, 86, 87, 88, 89, 90, 91, 92, 93, 94, 95, 96, 97, 98, 99]\n"
     ]
    }
   ],
   "source": [
    "numbers = list(range(1, 100))\n",
    "print(numbers)"
   ]
  },
  {
   "cell_type": "markdown",
   "id": "2e340256",
   "metadata": {},
   "source": [
    "4-5. Summing a Million: Make a list of the numbers from one to one million, and then use min() and max() to make sure your list actually starts at one and ends at one million. Also, use the sum() function to see how quickly Python can add a million numbers."
   ]
  },
  {
   "cell_type": "code",
   "execution_count": 12,
   "id": "c412ced1",
   "metadata": {},
   "outputs": [
    {
     "name": "stdout",
     "output_type": "stream",
     "text": [
      "1\n",
      "1000000\n",
      "500000500000\n"
     ]
    }
   ],
   "source": [
    "my_list = list(range(1, 1000001))\n",
    "print(min(my_list))\n",
    "print(max(my_list))\n",
    "print(sum(my_list))"
   ]
  },
  {
   "cell_type": "markdown",
   "id": "29d4b27f",
   "metadata": {},
   "source": [
    "4-6. Odd Numbers: Use the third argument of the range() function to make a list of the odd numbers from 1 to 20. Use a for loop to print each number."
   ]
  },
  {
   "cell_type": "code",
   "execution_count": 14,
   "id": "ab79cb9e",
   "metadata": {},
   "outputs": [
    {
     "name": "stdout",
     "output_type": "stream",
     "text": [
      "[1, 4, 7, 10, 13, 16, 19]\n"
     ]
    }
   ],
   "source": [
    "odd_numbers = list(range(1,20,3))\n",
    "print(odd_numbers)"
   ]
  },
  {
   "cell_type": "markdown",
   "id": "5642fd75",
   "metadata": {},
   "source": [
    "4-7. Threes: Make a list of the multiples of 3, from 3 to 30. Use a for loop to print the numbers in your list."
   ]
  },
  {
   "cell_type": "code",
   "execution_count": 16,
   "id": "d3e8bfee",
   "metadata": {},
   "outputs": [
    {
     "name": "stdout",
     "output_type": "stream",
     "text": [
      "[3, 6, 9, 12, 15, 18, 21, 24, 27, 30]\n"
     ]
    }
   ],
   "source": [
    "list_number = list(range(3, 31, 3))\n",
    "print(list_number)"
   ]
  },
  {
   "cell_type": "markdown",
   "id": "74c0094f",
   "metadata": {},
   "source": [
    "4-8. Cubes: A number raised to the third power is called a cube. For example, the cube of 2 is written as 2**3 in Python. Make a list of the first 10 cubes (that is, the cube of each integer from 1 through 10), and use a for loop to print out the value of each cube."
   ]
  },
  {
   "cell_type": "code",
   "execution_count": null,
   "id": "4a37e1ca",
   "metadata": {
    "scrolled": true
   },
   "outputs": [],
   "source": []
  },
  {
   "cell_type": "code",
   "execution_count": 23,
   "id": "4203b90a",
   "metadata": {},
   "outputs": [
    {
     "name": "stdout",
     "output_type": "stream",
     "text": [
      "[1, 8, 27, 64, 125, 216, 343, 512, 729, 1000]\n"
     ]
    }
   ],
   "source": [
    "cubes = []\n",
    "for value in range (1,11):\n",
    "    cube = value **3\n",
    "    cubes.append(cube)\n",
    "\n",
    "print(cubes)"
   ]
  },
  {
   "cell_type": "markdown",
   "id": "857fb5fb",
   "metadata": {},
   "source": [
    "4-9. Cube Comprehension: Use a list comprehension to generate a list of the first 10 cubes."
   ]
  },
  {
   "cell_type": "code",
   "execution_count": 24,
   "id": "32ba6832",
   "metadata": {},
   "outputs": [
    {
     "name": "stdout",
     "output_type": "stream",
     "text": [
      "[1, 8, 27, 64, 125, 216, 343, 512, 729, 1000]\n"
     ]
    }
   ],
   "source": [
    "cube = [value ** 3 for value in range(1, 11)]\n",
    "print(cube)"
   ]
  },
  {
   "cell_type": "markdown",
   "id": "c89939c5",
   "metadata": {},
   "source": [
    "4-10. Slices: Using one of the programs you wrote in this chapter, add several lines to the end of the program that do the following:\n",
    "\n",
    "Print the message The first three items in the list are:. Then use a slice to print the first three items from that program’s list.\n",
    "Print the message Three items from the middle of the list are:. Then use a slice to print three items from the middle of the list.\n",
    "Print the message The last three items in the list are:. Then use a slice to print the last three items in the list."
   ]
  },
  {
   "cell_type": "markdown",
   "id": "c2bddd35",
   "metadata": {},
   "source": [
    "4-10. Slices: Using one of the programs you wrote in this chapter, add several lines to the end of the program that do the following:\n",
    "\n",
    "Print the message The first three items in the list are:. Then use a slice to print the first three items from that program’s list.\n",
    "Print the message Three items from the middle of the list are:. Then use a slice to print three items from the middle of the list.\n",
    "Print the message The last three items in the list are:. Then use a slice to print the last three items in the list."
   ]
  },
  {
   "cell_type": "code",
   "execution_count": 2,
   "id": "0d298490",
   "metadata": {},
   "outputs": [
    {
     "name": "stdout",
     "output_type": "stream",
     "text": [
      "The first items in the list are:\n",
      "['cheese', 'veggie', 'pepperoni']\n",
      "\n",
      "Three items from the middle of the list are:\n",
      "['meat', 'BBQ Chicken', 'buffalo']\n",
      "\n",
      "The last three items in the list are:\n",
      "['BBQ Chicken', 'buffalo', 'hawaiian']\n"
     ]
    }
   ],
   "source": [
    "pizzas = ['cheese', 'veggie', 'pepperoni', 'meat', 'BBQ Chicken', 'buffalo', 'hawaiian']\n",
    "print('The first items in the list are:')\n",
    "print(pizzas[:3])\n",
    "\n",
    "print(\"\\nThree items from the middle of the list are:\")\n",
    "print(pizzas[3:6])\n",
    "\n",
    "print(\"\\nThe last three items in the list are:\")\n",
    "print(pizzas[-3:])"
   ]
  },
  {
   "cell_type": "markdown",
   "id": "e2dc935b",
   "metadata": {},
   "source": [
    "4-11. My Pizzas, Your Pizzas: Start with your program from Exercise 4-1 (page 56). Make a copy of the list of pizzas, and call it friend_pizzas. Then, do the following:\n",
    "\n",
    "Add a new pizza to the original list.\n",
    "Add a different pizza to the list friend_pizzas.\n",
    "Prove that you have two separate lists. Print the message My favorite pizzas are:, and then use a for loop to print the first list. Print the message My friend’s favorite pizzas are:, and then use a for loop to print the second list. Make sure each new pizza is stored in the appropriate list."
   ]
  },
  {
   "cell_type": "code",
   "execution_count": 3,
   "id": "23f246d1",
   "metadata": {},
   "outputs": [
    {
     "name": "stdout",
     "output_type": "stream",
     "text": [
      "My favorite pizzas are:\n",
      "cheese\n",
      "veggie\n",
      "pepperoni\n",
      "meat\n",
      "BBQ Chicken\n",
      "buffalo\n",
      "\n",
      "My friend's favorite pizas are\n",
      "cheese\n",
      "veggie\n",
      "pepperoni\n",
      "meat\n",
      "BBQ Chicken\n",
      "hawaiian\n"
     ]
    }
   ],
   "source": [
    "pizzas = ['cheese', 'veggie', 'pepperoni', 'meat', 'BBQ Chicken']\n",
    "friend_pizzas = pizzas[:]\n",
    "\n",
    "pizzas.append('buffalo')\n",
    "friend_pizzas.append('hawaiian')\n",
    "\n",
    "print('My favorite pizzas are:')\n",
    "for pizza in pizzas:\n",
    "    print(pizza)\n",
    "\n",
    "print(\"\\nMy friend's favorite pizas are\")\n",
    "for pizza in friend_pizzas:\n",
    "    print(pizza)"
   ]
  },
  {
   "cell_type": "markdown",
   "id": "09a3b765",
   "metadata": {},
   "source": [
    "4-12. More Loops: All versions of foods.py in this section have avoided using for loops when printing, to save space. Choose a version of foods.py, and write two for loops to print each list of foods."
   ]
  },
  {
   "cell_type": "markdown",
   "id": "cb0baaf7",
   "metadata": {},
   "source": [
    "4-13. Buffet: A buffet-style restaurant offers only five basic foods. Think of five simple foods, and store them in a tuple.\n",
    "\n",
    "Use a for loop to print each food the restaurant offers.\n",
    "Try to modify one of the items, and make sure that Python rejects the change.\n",
    "The restaurant changes its menu, replacing two of the items with different foods. Add a line that rewrites the tuple, and then use a for loop to print each of the items on the revised menu."
   ]
  },
  {
   "cell_type": "code",
   "execution_count": 6,
   "id": "ee08e9a5",
   "metadata": {},
   "outputs": [
    {
     "name": "stdout",
     "output_type": "stream",
     "text": [
      "pasta\n",
      "pizza\n",
      "salad\n",
      "noodle\n",
      "greek wedge\n",
      "\n",
      "Our menu has been updated\n",
      "You can choose from this following menu:\n",
      "pasta\n",
      "pizza\n",
      "salad\n",
      "noodle\n",
      "greek wedge\n",
      "king crab legs\n",
      "smoked salmon chowder\n"
     ]
    }
   ],
   "source": [
    "foods = ('pasta', 'pizza', 'salad', 'noodle', 'greek wedge')\n",
    "\n",
    "for food in foods:\n",
    "    print(food)\n",
    "\n",
    "menu_items = ('pasta', 'pizza', 'salad', 'noodle', 'greek wedge', 'king crab legs', 'smoked salmon chowder')\n",
    "print(\"\\nOur menu has been updated\")\n",
    "print('You can choose from this following menu:')\n",
    "for item in menu_items:\n",
    "    print(item)"
   ]
  },
  {
   "cell_type": "code",
   "execution_count": null,
   "id": "3474c32d",
   "metadata": {},
   "outputs": [],
   "source": []
  }
 ],
 "metadata": {
  "kernelspec": {
   "display_name": "Python 3 (ipykernel)",
   "language": "python",
   "name": "python3"
  },
  "language_info": {
   "codemirror_mode": {
    "name": "ipython",
    "version": 3
   },
   "file_extension": ".py",
   "mimetype": "text/x-python",
   "name": "python",
   "nbconvert_exporter": "python",
   "pygments_lexer": "ipython3",
   "version": "3.9.13"
  }
 },
 "nbformat": 4,
 "nbformat_minor": 5
}
