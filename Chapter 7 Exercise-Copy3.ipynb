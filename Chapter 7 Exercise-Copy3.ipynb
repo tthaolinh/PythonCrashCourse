{
 "cells": [
  {
   "cell_type": "markdown",
   "id": "fa47d9d1",
   "metadata": {},
   "source": [
    "7-1. Rental Car: Write a program that asks the user what kind of rental car they would like. Print a message about that car, such as “Let me see if I can find you a Subaru.”"
   ]
  },
  {
   "cell_type": "code",
   "execution_count": 2,
   "id": "3aa1692b",
   "metadata": {},
   "outputs": [
    {
     "name": "stdout",
     "output_type": "stream",
     "text": [
      "What kind of car would you like? Subaru\n",
      "Let me see if I can find you a Subaru.\n"
     ]
    }
   ],
   "source": [
    "car = input('What kind of car would you like? ')\n",
    "print(f\"Let me see if I can find you a {car.title()}.\")"
   ]
  },
  {
   "cell_type": "markdown",
   "id": "b4e61e86",
   "metadata": {},
   "source": [
    "7-2. Restaurant Seating: Write a program that asks the user how many people are in their dinner group. If the answer is more than eight, print a message saying they’ll have to wait for a table. Otherwise, report that their table is ready."
   ]
  },
  {
   "cell_type": "code",
   "execution_count": 4,
   "id": "378ee35a",
   "metadata": {},
   "outputs": [
    {
     "name": "stdout",
     "output_type": "stream",
     "text": [
      "How many people are in your dinner group? 9\n",
      "I'm sorry, you'll have to wait for a table.\n"
     ]
    }
   ],
   "source": [
    "party_size = input(\"How many people are in your dinner group? \")\n",
    "party_size = int(party_size)\n",
    "\n",
    "if party_size > 8:\n",
    "    print(\"I'm sorry, you'll have to wait for a table.\")\n",
    "else:\n",
    "    print(\"Your table is ready.\")"
   ]
  },
  {
   "cell_type": "markdown",
   "id": "c73d6bbc",
   "metadata": {},
   "source": [
    "7-3. Multiples of Ten: Ask the user for a number, and then report whether the number is a multiple of 10 or not."
   ]
  },
  {
   "cell_type": "code",
   "execution_count": 5,
   "id": "921dfa7f",
   "metadata": {},
   "outputs": [
    {
     "name": "stdout",
     "output_type": "stream",
     "text": [
      "Give me a number, please: 11\n",
      "11 is not a multiple of 10.\n"
     ]
    }
   ],
   "source": [
    "number = input(\"Give me a number, please: \")\n",
    "number = int(number)\n",
    "\n",
    "if number % 10 == 0:\n",
    "    print(f\"{number} is a multiple of 10.\")\n",
    "else:\n",
    "    print(f\"{number} is not a multiple of 10.\")"
   ]
  },
  {
   "cell_type": "markdown",
   "id": "d9cd04db",
   "metadata": {},
   "source": [
    "7-4. Pizza Toppings: Write a loop that prompts the user to enter a series of pizza toppings until they enter a 'quit' value. As they enter each topping, print a message saying you’ll add that topping to their pizza."
   ]
  },
  {
   "cell_type": "code",
   "execution_count": 2,
   "id": "b7de78cc",
   "metadata": {},
   "outputs": [
    {
     "name": "stdout",
     "output_type": "stream",
     "text": [
      "\n",
      "What topping you would like on pizza?\n",
      "Enter 'quit' when you are finished:tomato\n",
      " I'll add tomato to your pizza.\n",
      "\n",
      "What topping you would like on pizza?\n",
      "Enter 'quit' when you are finished:cheese\n",
      " I'll add cheese to your pizza.\n",
      "\n",
      "What topping you would like on pizza?\n",
      "Enter 'quit' when you are finished:quit\n"
     ]
    }
   ],
   "source": [
    "prompt = \"\\nWhat topping you would like on pizza?\"\n",
    "prompt += \"\\nEnter 'quit' when you are finished:\"\n",
    "\n",
    "while True:\n",
    "    topping = input(prompt)\n",
    "    if topping != 'quit':\n",
    "        print(\" I'll add \" + topping + \" to your pizza.\")\n",
    "    else:\n",
    "        break"
   ]
  },
  {
   "cell_type": "markdown",
   "id": "6a5675f1",
   "metadata": {},
   "source": [
    "7-5. Movie Tickets: A movie theater charges different ticket prices depending on a person’s age. If a person is under the age of 3, the ticket is free; if they are between 3 and 12, the ticket is $10; and if they are over age 12, the ticket is $15. Write a loop in which you ask users their age, and then tell them the cost of their movie ticket."
   ]
  },
  {
   "cell_type": "code",
   "execution_count": 1,
   "id": "072604a3",
   "metadata": {},
   "outputs": [
    {
     "name": "stdout",
     "output_type": "stream",
     "text": [
      "How old are you?\n",
      "Enter 'quit' when you are finished. 2\n",
      " You get in free!\n",
      "How old are you?\n",
      "Enter 'quit' when you are finished. 3\n",
      " Your ticket is $10.\n",
      "How old are you?\n",
      "Enter 'quit' when you are finished. 4\n",
      " Your ticket is $10.\n",
      "How old are you?\n",
      "Enter 'quit' when you are finished. 5\n",
      " Your ticket is $10.\n",
      "How old are you?\n",
      "Enter 'quit' when you are finished. 5\n",
      " Your ticket is $10.\n",
      "How old are you?\n",
      "Enter 'quit' when you are finished. 6\n",
      " Your ticket is $10.\n",
      "How old are you?\n",
      "Enter 'quit' when you are finished. quit\n"
     ]
    }
   ],
   "source": [
    "prompt = \"How old are you?\"\n",
    "prompt += \"\\nEnter 'quit' when you are finished. \"\n",
    "\n",
    "while True:\n",
    "    age = input(prompt)\n",
    "    if age == 'quit':\n",
    "        break\n",
    "    age = int(age)\n",
    "    \n",
    "    if age < 3:\n",
    "        print(\" You get in free!\")\n",
    "    elif age < 13:\n",
    "        print(\" Your ticket is $10.\")\n",
    "    else:\n",
    "        print(\" Your ticket is $15.\")"
   ]
  },
  {
   "cell_type": "markdown",
   "id": "47159bf6",
   "metadata": {},
   "source": [
    "7-6. Three Exits: Write different versions of either Exercise 7-4 or 7-5 that do each of the following at least once:\n",
    "\n",
    "- Use a conditional test in the while statement to stop the loop.\n",
    "- Use an active variable to control how long the loop runs.\n",
    "- Use a break statement to exit the loop when the user enters a 'quit' value."
   ]
  },
  {
   "cell_type": "code",
   "execution_count": null,
   "id": "6763bef7",
   "metadata": {},
   "outputs": [
    {
     "name": "stdout",
     "output_type": "stream",
     "text": [
      "How old are you?\n",
      "Enter 'quit' when you are finished. 9\n",
      " Your ticket is $10.\n",
      "How old are you?\n",
      "Enter 'quit' when you are finished. 6\n",
      " Your ticket is $10.\n"
     ]
    }
   ],
   "source": [
    "prompt = \"How old are you?\"\n",
    "prompt += \"\\nEnter 'quit' when you are finished. \"\n",
    "\n",
    "active = True\n",
    "while active:\n",
    "    age = input(prompt)\n",
    "    if age == 'quit':\n",
    "        active = False\n",
    "    else:\n",
    "        age = int(age)\n",
    "    if age < 3:\n",
    "        print(\" You get in free!\")\n",
    "    elif age < 13:\n",
    "        print(\" Your ticket is $10.\")\n",
    "    else:\n",
    "        print(\" Your ticket is $15.\")\n",
    "    "
   ]
  },
  {
   "cell_type": "markdown",
   "id": "bc3436f8",
   "metadata": {},
   "source": [
    "7-8. Deli: Make a list called sandwich_orders and fill it with the names of various sandwiches. Then make an empty list called finished_sandwiches. Loop through the list of sandwich orders and print a message for each order, such as I made your tuna sandwich. As each sandwich is made, move it to the list of finished sandwiches. After all the sandwiches have been made, print a message listing each sandwich that was made."
   ]
  },
  {
   "cell_type": "code",
   "execution_count": 2,
   "id": "d8bb67f7",
   "metadata": {},
   "outputs": [
    {
     "name": "stdout",
     "output_type": "stream",
     "text": [
      "I'm working on your roast beefsandwich.\n",
      "I'm working on your turkeysandwich.\n",
      "I'm working on your grilled cheesesandwich.\n",
      "I'm working on your veggiesandwich.\n",
      "\n",
      "\n",
      "I made a roast beefsandwich.\n",
      "I made a turkeysandwich.\n",
      "I made a grilled cheesesandwich.\n",
      "I made a veggiesandwich.\n"
     ]
    }
   ],
   "source": [
    "sandwich_orders = ['veggie', 'grilled cheese', 'turkey', 'roast beef']\n",
    "finished_sandwiches = []\n",
    "\n",
    "while sandwich_orders:\n",
    "    current_sandwich = sandwich_orders.pop()\n",
    "    print(\"I'm working on your \" + current_sandwich + \"sandwich.\")\n",
    "    finished_sandwiches.append(current_sandwich)\n",
    "\n",
    "print(\"\\n\")\n",
    "for sandwich in finished_sandwiches:\n",
    "    print(\"I made a \" + sandwich + \"sandwich.\")"
   ]
  },
  {
   "cell_type": "markdown",
   "id": "4dd5a2b3",
   "metadata": {},
   "source": [
    "7-9. No Pastrami: Using the list sandwich_orders from Exercise 7-8, make sure the sandwich 'pastrami' appears in the list at least three times. Add code near the beginning of your program to print a message saying the deli has run out of pastrami, and then use a while loop to remove all occurrences of 'pastrami' from sandwich_orders. Make sure no pastrami sandwiches end up in finished_sandwiches."
   ]
  },
  {
   "cell_type": "code",
   "execution_count": 3,
   "id": "8b50fb77",
   "metadata": {},
   "outputs": [
    {
     "name": "stdout",
     "output_type": "stream",
     "text": [
      "I'm sorry, we're all out of pastrami today.\n",
      "\n",
      "\n",
      "I'm working on your roast beef sandwich.\n",
      "I'm working on your turkey sandwich.\n",
      "I'm working on your grilled cheese sandwich.\n",
      "I'm working on your veggie sandwich.\n",
      "\n",
      "\n",
      "I made a roast beef sandwich.\n",
      "I made a turkey sandwich.\n",
      "I made a grilled cheese sandwich.\n",
      "I made a veggie sandwich.\n"
     ]
    }
   ],
   "source": [
    "sandwich_orders = [\n",
    "    'pastrami', 'veggie', 'grilled cheese', 'pastrami', \n",
    "    'turkey', 'roast beef', 'pastrami']\n",
    "finished_sandwiches = []\n",
    "\n",
    "print(\"I'm sorry, we're all out of pastrami today.\")\n",
    "while 'pastrami' in sandwich_orders:\n",
    "    sandwich_orders.remove('pastrami')\n",
    "    \n",
    "print(\"\\n\")\n",
    "while sandwich_orders:\n",
    "    current_sandwich = sandwich_orders.pop()\n",
    "    print(\"I'm working on your \" + current_sandwich + \" sandwich.\")\n",
    "    finished_sandwiches.append(current_sandwich)\n",
    "\n",
    "print(\"\\n\")\n",
    "for sandwich in finished_sandwiches:\n",
    "    print(\"I made a \" + sandwich + \" sandwich.\")"
   ]
  },
  {
   "cell_type": "markdown",
   "id": "c5046658",
   "metadata": {},
   "source": [
    "7-10. Dream Vacation: Write a program that polls users about their dream vacation. Write a prompt similar to If you could visit one place in the world, where would you go? Include a block of code that prints the results of the poll."
   ]
  },
  {
   "cell_type": "code",
   "execution_count": 2,
   "id": "f616d0da",
   "metadata": {},
   "outputs": [
    {
     "name": "stdout",
     "output_type": "stream",
     "text": [
      "\n",
      "What's your name? Linh\n",
      "If you could visit one place in the world, where would it be ?New York\n",
      "\n",
      "Would you like to let someone else respond? (yes/no)yes\n",
      "\n",
      "What's your name? Nhan\n",
      "If you could visit one place in the world, where would it be ?Chicago\n",
      "\n",
      "Would you like to let someone else respond? (yes/no)no\n",
      "\n",
      "---Results ---\n",
      "Linh would like to visit New York.\n",
      "Nhan would like to visit Chicago.\n"
     ]
    }
   ],
   "source": [
    "name_prompt = \"\\nWhat's your name? \"\n",
    "place_prompt = \"If you could visit one place in the world, where would it be ?\"\n",
    "continue_prompt = \"\\nWould you like to let someone else respond? (yes/no)\"\n",
    "\n",
    "# Response will be stored in the form {name: place}\n",
    "responses = {}\n",
    "\n",
    "while True:\n",
    "    # Ask the user where they'd like to go.\n",
    "    name = input(name_prompt)\n",
    "    place = input(place_prompt)\n",
    "    \n",
    "    # Store the response.\n",
    "    responses[name] = place\n",
    "    \n",
    "    # Ask f there's anyone else responding.\n",
    "    repeat = input(continue_prompt)\n",
    "    if repeat != 'yes':\n",
    "        break\n",
    "\n",
    "# Show results of the survey.\n",
    "print(\"\\n---Results ---\")\n",
    "for name, place in responses.items():\n",
    "    print(name.title() + \" would like to visit \" + place.title() + \".\")"
   ]
  },
  {
   "cell_type": "code",
   "execution_count": null,
   "id": "cd8899fa",
   "metadata": {},
   "outputs": [],
   "source": []
  }
 ],
 "metadata": {
  "kernelspec": {
   "display_name": "Python 3 (ipykernel)",
   "language": "python",
   "name": "python3"
  },
  "language_info": {
   "codemirror_mode": {
    "name": "ipython",
    "version": 3
   },
   "file_extension": ".py",
   "mimetype": "text/x-python",
   "name": "python",
   "nbconvert_exporter": "python",
   "pygments_lexer": "ipython3",
   "version": "3.9.13"
  }
 },
 "nbformat": 4,
 "nbformat_minor": 5
}
