{
 "cells": [
  {
   "cell_type": "markdown",
   "id": "861ebdc0",
   "metadata": {},
   "source": [
    "3-1. Names: Store the names of a few of your friends in a list called names. Print each person’s name by accessing each element in the list, one at a time."
   ]
  },
  {
   "cell_type": "code",
   "execution_count": 1,
   "id": "634a5164",
   "metadata": {},
   "outputs": [
    {
     "name": "stdout",
     "output_type": "stream",
     "text": [
      "jill\n",
      "tyler\n",
      "anna\n"
     ]
    }
   ],
   "source": [
    "names = ['jill', 'tyler', 'anna']\n",
    "print(names[0])\n",
    "print(names[1])\n",
    "print(names[2])"
   ]
  },
  {
   "cell_type": "markdown",
   "id": "70ae7b27",
   "metadata": {},
   "source": [
    "3-2. Greetings: Start with the list you used in Exercise 3-1, but instead of just printing each person’s name, print a message to them. The text of each message should be the same, but each message should be personalized with the person’s name."
   ]
  },
  {
   "cell_type": "code",
   "execution_count": 5,
   "id": "3f7598c0",
   "metadata": {},
   "outputs": [
    {
     "name": "stdout",
     "output_type": "stream",
     "text": [
      "Good morning, Jill\n",
      "Hello, Tyler\n",
      "Good afternoon, Anna\n"
     ]
    }
   ],
   "source": [
    "names = ['jill', 'tyler', 'anna']\n",
    "message = f\"Good morning, {names[0].title()}\"\n",
    "print(message)\n",
    "message = f\"Hello, {names[1].title()}\"\n",
    "print(message)\n",
    "message = f\"Good afternoon, {names[2].title()}\"\n",
    "print(message)"
   ]
  },
  {
   "cell_type": "markdown",
   "id": "e8a37955",
   "metadata": {},
   "source": [
    "3-3. Your Own List: Think of your favorite mode of transportation, such as a motorcycle or a car, and make a list that stores several examples. Use your list to print a series of statements about these items, such as “I would like to own a Honda motorcycle.”"
   ]
  },
  {
   "cell_type": "code",
   "execution_count": 11,
   "id": "bfa8dd0b",
   "metadata": {},
   "outputs": [
    {
     "name": "stdout",
     "output_type": "stream",
     "text": [
      "I would like to own a Mercedes car\n",
      "I want to have a Toyota car in the future\n",
      "I want to drive Audi car \n"
     ]
    }
   ],
   "source": [
    "car = ['Mercedes', 'Toyota', 'Audi']\n",
    "message = f\"I would like to own a {car[0].title()} car\"\n",
    "print(message)\n",
    "message = f\"I want to have a {car[1].title()} car in the future\"\n",
    "print(message)\n",
    "message = f\"I want to drive {car[2].title()} car \"\n",
    "print(message)"
   ]
  },
  {
   "cell_type": "markdown",
   "id": "e38e9bfd",
   "metadata": {},
   "source": [
    "3-4. Guest List: If you could invite anyone, living or deceased, to dinner, who would you invite? Make a list that includes at least three people you’d like to invite to dinner. Then use your list to print a message to each person, inviting them to dinner."
   ]
  },
  {
   "cell_type": "code",
   "execution_count": 5,
   "id": "199f172b",
   "metadata": {},
   "outputs": [
    {
     "name": "stdout",
     "output_type": "stream",
     "text": [
      "Would you want to eat dinner with me Jill?\n",
      "Please come to the dinner with me, Nhan\n",
      "We are having dinner tonight. Would you want to join Linh?\n"
     ]
    }
   ],
   "source": [
    "guests = ['jill', 'nhan', 'linh']\n",
    "message = f\"Would you want to eat dinner with me {guests[0].title()}?\"\n",
    "print(message)\n",
    "message = f\"Please come to the dinner with me, {guests[1].title()}\"\n",
    "print(message)\n",
    "message = f\"We are having dinner tonight. Would you want to join {guests[2].title()}?\"\n",
    "print(message)\n"
   ]
  },
  {
   "cell_type": "markdown",
   "id": "8bf6be0b",
   "metadata": {},
   "source": [
    "3-5. Changing Guest List: You just heard that one of your guests can’t make the dinner, so you need to send out a new set of invitations. You’ll have to think of someone else to invite.\n",
    "\n",
    "Start with your program from Exercise 3-4. Add a print() call at the end of your program, stating the name of the guest who can’t make it.\n",
    "Modify your list, replacing the name of the guest who can’t make it with the name of the new person you are inviting.\n",
    "Print a second set of invitation messages, one for each person who is still in your list."
   ]
  },
  {
   "cell_type": "code",
   "execution_count": 17,
   "id": "6e056df3",
   "metadata": {},
   "outputs": [
    {
     "name": "stdout",
     "output_type": "stream",
     "text": [
      "Would you want to eat dinner with me Jill?\n",
      "Please come to the dinner with me, Nhan\n",
      "We are having dinner tonight. Would you want to join Linh?\n",
      "Nhan can't go for the dinner\n",
      "['jina', 'jill', 'linh']\n",
      "Would you want to eat dinner with me Jina?\n",
      "Please come to the dinner with me, Jill\n",
      "We are having dinner tonight. Would you want to join Linh?\n"
     ]
    }
   ],
   "source": [
    "guests = ['jill', 'nhan', 'linh']\n",
    "message = f\"Would you want to eat dinner with me {guests[0].title()}?\"\n",
    "print(message)\n",
    "message = f\"Please come to the dinner with me, {guests[1].title()}\"\n",
    "print(message)\n",
    "message = f\"We are having dinner tonight. Would you want to join {guests[2].title()}?\"\n",
    "print(message)\n",
    "\n",
    "cant_come = guests.pop(1)\n",
    "message = cant_come.title() + \" can't go for the dinner\"\n",
    "print(message)\n",
    "\n",
    "guests.insert(0,'jina')\n",
    "print(guests)\n",
    "message = f\"Would you want to eat dinner with me {guests[0].title()}?\"\n",
    "print(message)\n",
    "message = f\"Please come to the dinner with me, {guests[1].title()}\"\n",
    "print(message)\n",
    "message = f\"We are having dinner tonight. Would you want to join {guests[2].title()}?\"\n",
    "print(message)"
   ]
  },
  {
   "cell_type": "markdown",
   "id": "909591bf",
   "metadata": {},
   "source": [
    "3-6. More Guests: You just found a bigger dinner table, so now more space is available. Think of three more guests to invite to dinner.\n",
    "\n",
    "- Start with your program from Exercise 3-4 or 3-5. Add a print() call to the end of your program, informing people that you found a bigger table.\n",
    "- Use insert() to add one new guest to the beginning of your list.\n",
    "- Use insert() to add one new guest to the middle of your list.\n",
    "- Use append() to add one new guest to the end of your list.\n",
    "- Print a new set of invitation messages, one for each person in your list."
   ]
  },
  {
   "cell_type": "code",
   "execution_count": 28,
   "id": "9b3072f8",
   "metadata": {},
   "outputs": [
    {
     "name": "stdout",
     "output_type": "stream",
     "text": [
      "Would you want to eat dinner with me Jill?\n",
      "Please come to the dinner with me, Nhan\n",
      "We are having dinner tonight. Would you want to join Linh?\n",
      "Nhan can't go for the dinner\n",
      "['jina', 'jill', 'linh']\n",
      "Would you want to eat dinner with me Jina?\n",
      "Please come to the dinner with me, Jill\n",
      "We are having dinner tonight. Would you want to join Linh?\n",
      "\n",
      "We found a bigger table!\n",
      "['aoi', 'jina', 'loan', 'jill', 'linh', 'hen']\n",
      "Aoi, please come to dinner.\n",
      "Jina, please come to dinner.\n",
      "Loan, please come to dinner.\n",
      "Jill, please come to dinner.\n",
      "Linh, please come to dinner.\n",
      "Hen, please come to dinner.\n",
      "\n",
      "Sorry, we can only invite two people for the dinner\n",
      "Sorry Aoi, can't invite to the dinner.\n",
      "Sorry Loan, can't invite to the dinner.\n",
      "Sorry Linh, can't invite to the dinner.\n",
      "['jina', 'jill', 'hen']\n"
     ]
    }
   ],
   "source": [
    "guests = ['jill', 'nhan', 'linh']\n",
    "message = f\"Would you want to eat dinner with me {guests[0].title()}?\"\n",
    "print(message)\n",
    "message = f\"Please come to the dinner with me, {guests[1].title()}\"\n",
    "print(message)\n",
    "message = f\"We are having dinner tonight. Would you want to join {guests[2].title()}?\"\n",
    "print(message)\n",
    "\n",
    "cant_come = guests.pop(1)\n",
    "message = cant_come.title() + \" can't go for the dinner\"\n",
    "print(message)\n",
    "\n",
    "guests.insert(0,'jina')\n",
    "print(guests)\n",
    "message = f\"Would you want to eat dinner with me {guests[0].title()}?\"\n",
    "print(message)\n",
    "message = f\"Please come to the dinner with me, {guests[1].title()}\"\n",
    "print(message)\n",
    "message = f\"We are having dinner tonight. Would you want to join {guests[2].title()}?\"\n",
    "print(message)\n",
    "\n",
    "# inform people that you found a bigger table\n",
    "print(\"\\nWe found a bigger table!\")\n",
    "\n",
    "guests.insert(0,'aoi')\n",
    "guests.insert(2,'loan')\n",
    "guests.append('hen')\n",
    "print(guests)\n",
    "\n",
    "name = guests[0].title()\n",
    "print(name + \", please come to dinner.\")\n",
    "\n",
    "name = guests[1].title()\n",
    "print(name + \", please come to dinner.\")\n",
    "\n",
    "name = guests[2].title()\n",
    "print(name + \", please come to dinner.\")\n",
    "\n",
    "name = guests[3].title()\n",
    "print(name + \", please come to dinner.\")\n",
    "\n",
    "name = guests[4].title()\n",
    "print(name + \", please come to dinner.\")\n",
    "\n",
    "name = guests[5].title()\n",
    "print(name + \", please come to dinner.\")\n",
    "\n",
    "# can invite just only 2 people\n",
    "print(\"\\nSorry, we can only invite two people for the dinner\")\n",
    "\n",
    "guests_remove = guests.pop(0)\n",
    "print(\"Sorry \" + guests_remove.title() + \", can't invite to the dinner.\")\n",
    "\n",
    "guests_remove = guests.pop(1)\n",
    "print(\"Sorry \" + guests_remove.title() + \", can't invite to the dinner.\")\n",
    "\n",
    "guests_remove = guests.pop(2)\n",
    "print(\"Sorry \" + guests_remove.title() + \", can't invite to the dinner.\")\n",
    "\n",
    "print(guests)"
   ]
  },
  {
   "cell_type": "code",
   "execution_count": 23,
   "id": "591192b0",
   "metadata": {},
   "outputs": [
    {
     "name": "stdout",
     "output_type": "stream",
     "text": [
      "Would you want to eat dinner with me Jill?\n",
      "Please come to the dinner with me, Nhan\n",
      "We are having dinner tonight. Would you want to join Linh?\n",
      "Nhan can't go for the dinner\n",
      "['jina', 'jill', 'linh']\n",
      "Would you want to eat dinner with me Jina?\n",
      "Please come to the dinner with me, Jill\n",
      "We are having dinner tonight. Would you want to join Linh?\n",
      "\n",
      "We found a bigger table!\n",
      "['aoi', 'jina', 'loan', 'jill', 'linh', 'hen']\n",
      "Aoi, please come to dinner.\n",
      "Jina, please come to dinner.\n",
      "Loan, please come to dinner.\n",
      "Jill, please come to dinner.\n",
      "Linh, please come to dinner.\n",
      "Hen, please come to dinner.\n"
     ]
    }
   ],
   "source": [
    "guests = ['jill', 'nhan', 'linh']\n",
    "message = f\"Would you want to eat dinner with me {guests[0].title()}?\"\n",
    "print(message)\n",
    "message = f\"Please come to the dinner with me, {guests[1].title()}\"\n",
    "print(message)\n",
    "message = f\"We are having dinner tonight. Would you want to join {guests[2].title()}?\"\n",
    "print(message)\n",
    "\n",
    "cant_come = guests.pop(1)\n",
    "message = cant_come.title() + \" can't go for the dinner\"\n",
    "print(message)\n",
    "\n",
    "guests.insert(0,'jina')\n",
    "print(guests)\n",
    "message = f\"Would you want to eat dinner with me {guests[0].title()}?\"\n",
    "print(message)\n",
    "message = f\"Please come to the dinner with me, {guests[1].title()}\"\n",
    "print(message)\n",
    "message = f\"We are having dinner tonight. Would you want to join {guests[2].title()}?\"\n",
    "print(message)\n",
    "\n",
    "# inform people that you found a bigger table\n",
    "print(\"\\nWe found a bigger table!\")\n",
    "\n",
    "guests.insert(0,'aoi')\n",
    "guests.insert(2,'loan')\n",
    "guests.append('hen')\n",
    "print(guests)\n",
    "\n",
    "name = guests[0].title()\n",
    "print(name + \", please come to dinner.\")\n",
    "\n",
    "name = guests[1].title()\n",
    "print(name + \", please come to dinner.\")\n",
    "\n",
    "name = guests[2].title()\n",
    "print(name + \", please come to dinner.\")\n",
    "\n",
    "name = guests[3].title()\n",
    "print(name + \", please come to dinner.\")\n",
    "\n",
    "name = guests[4].title()\n",
    "print(name + \", please come to dinner.\")\n",
    "\n",
    "name = guests[5].title()\n",
    "print(name + \", please come to dinner.\")\n"
   ]
  },
  {
   "cell_type": "markdown",
   "id": "1b20cac9",
   "metadata": {},
   "source": [
    "3-7. Shrinking Guest List: You just found out that your new dinner table won’t arrive in time for the dinner, and now you have space for only two guests.\n",
    "\n",
    "Start with your program from Exercise 3-6. Add a new line that prints a message saying that you can invite only two people for dinner.\n",
    "Use pop() to remove guests from your list one at a time until only two names remain in your list. Each time you pop a name from your list, print a message to that person letting them know you’re sorry you can’t invite them to dinner.\n",
    "Print a message to each of the two people still on your list, letting them know they’re still invited.\n",
    "Use del to remove the last two names from your list, so you have an empty list. Print your list to make sure you actually have an empty list at the end of your program."
   ]
  },
  {
   "cell_type": "code",
   "execution_count": 16,
   "id": "54a1433c",
   "metadata": {},
   "outputs": [
    {
     "name": "stdout",
     "output_type": "stream",
     "text": [
      "Would you want to eat dinner with me Jill?\n",
      "Please come to the dinner with me, Nhan\n",
      "We are having dinner tonight. Would you want to join Linh?\n",
      "Nhan can't go for the dinner\n",
      "['jina', 'jill', 'linh']\n",
      "Would you want to eat dinner with me Jina?\n",
      "Please come to the dinner with me, Jill\n",
      "We are having dinner tonight. Would you want to join Linh?\n",
      "\n",
      "We found a bigger table!\n",
      "['aoi', 'jina', 'loan', 'jill', 'linh', 'hen']\n",
      "Aoi, please come to dinner.\n",
      "Jina, please come to dinner.\n",
      "Loan, please come to dinner.\n",
      "Jill, please come to dinner.\n",
      "Linh, please come to dinner.\n",
      "Hen, please come to dinner.\n",
      "\n",
      "Sorry, we can invite only two people for dinner\n",
      "Sorry, Hen we can invite only two people for dinner\n",
      "Sorry, Linh we can invite only two people for dinner\n",
      "Sorry, Jill we can invite only two people for dinner\n",
      "Sorry, Loan we can invite only two people for dinner\n",
      "Aoi , please come to dinner\n",
      "Jina , please come to dinner\n",
      "['jina']\n",
      "[]\n"
     ]
    }
   ],
   "source": [
    "guests = ['jill', 'nhan', 'linh']\n",
    "message = f\"Would you want to eat dinner with me {guests[0].title()}?\"\n",
    "print(message)\n",
    "message = f\"Please come to the dinner with me, {guests[1].title()}\"\n",
    "print(message)\n",
    "message = f\"We are having dinner tonight. Would you want to join {guests[2].title()}?\"\n",
    "print(message)\n",
    "\n",
    "cant_come = guests.pop(1)\n",
    "message = cant_come.title() + \" can't go for the dinner\"\n",
    "print(message)\n",
    "\n",
    "guests.insert(0,'jina')\n",
    "print(guests)\n",
    "message = f\"Would you want to eat dinner with me {guests[0].title()}?\"\n",
    "print(message)\n",
    "message = f\"Please come to the dinner with me, {guests[1].title()}\"\n",
    "print(message)\n",
    "message = f\"We are having dinner tonight. Would you want to join {guests[2].title()}?\"\n",
    "print(message)\n",
    "\n",
    "# inform people that you found a bigger table\n",
    "print(\"\\nWe found a bigger table!\")\n",
    "\n",
    "guests.insert(0,'aoi')\n",
    "guests.insert(2,'loan')\n",
    "guests.append('hen')\n",
    "print(guests)\n",
    "\n",
    "name = guests[0].title()\n",
    "print(name + \", please come to dinner.\")\n",
    "\n",
    "name = guests[1].title()\n",
    "print(name + \", please come to dinner.\")\n",
    "\n",
    "name = guests[2].title()\n",
    "print(name + \", please come to dinner.\")\n",
    "\n",
    "name = guests[3].title()\n",
    "print(name + \", please come to dinner.\")\n",
    "\n",
    "name = guests[4].title()\n",
    "print(name + \", please come to dinner.\")\n",
    "\n",
    "name = guests[5].title()\n",
    "print(name + \", please come to dinner.\")\n",
    "\n",
    "# can invite only two people for the dinner\n",
    "print(\"\\nSorry, we can invite only two people for dinner\")\n",
    "guests_remove = guests.pop()\n",
    "print(\"Sorry, \" + guests_remove.title() + \" we can invite only two people for dinner\")\n",
    "\n",
    "guests_remove = guests.pop()\n",
    "print(\"Sorry, \" + guests_remove.title() + \" we can invite only two people for dinner\")\n",
    "\n",
    "guests_remove = guests.pop()\n",
    "print(\"Sorry, \" + guests_remove.title() + \" we can invite only two people for dinner\")\n",
    "\n",
    "guests_remove = guests.pop()\n",
    "print(\"Sorry, \" + guests_remove.title() + \" we can invite only two people for dinner\")\n",
    "\n",
    "# mesasge to two people still on the list\n",
    "guests_on_list = guests[0].title()\n",
    "print(guests_on_list + \" , please come to dinner\")\n",
    "\n",
    "guests_on_list = guests[1].title()\n",
    "print(guests_on_list + \" , please come to dinner\")\n",
    "\n",
    "del guests[0]\n",
    "print(guests)\n",
    "\n",
    "del guests[0]\n",
    "print(guests)"
   ]
  },
  {
   "cell_type": "markdown",
   "id": "71908c45",
   "metadata": {},
   "source": [
    "3-8. Seeing the World: Think of at least five places in the world you’d like to visit.\n",
    "\n",
    "- Store the locations in a list. Make sure the list is not in alphabetical order.\n",
    "- Print your list in its original order. Don’t worry about printing the list neatly; just print it as a raw Python list.\n",
    "- Use sorted() to print your list in alphabetical order without modifying the actual list.\n",
    "- Show that your list is still in its original order by printing it.\n",
    "- Use sorted() to print your list in reverse-alphabetical order without changing the order of the original list.\n",
    "- Show that your list is still in its original order by printing it again.\n",
    "- Use reverse() to change the order of your list. Print the list to show that its order has changed.\n",
    "- Use reverse() to change the order of your list again. Print the list to show it’s back to its original order.\n",
    "- Use sort() to change your list so it’s stored in alphabetical order. Print the list to show that its order has been changed.\n",
    "- Use sort() to change your list so it’s stored in reverse-alphabetical order. Print the list to show that its order has changed"
   ]
  },
  {
   "cell_type": "code",
   "execution_count": 26,
   "id": "f996b8aa",
   "metadata": {},
   "outputs": [
    {
     "name": "stdout",
     "output_type": "stream",
     "text": [
      "Original list:\n",
      "['tokyo', 'hanoi', 'new york', 'seoul', 'washington']\n",
      "\n",
      "Sorted list in alphabetic order:\n",
      "['hanoi', 'new york', 'seoul', 'tokyo', 'washington']\n",
      "\n",
      "Original list:\n",
      "['tokyo', 'hanoi', 'new york', 'seoul', 'washington']\n",
      "\n",
      "Reverse order\n",
      "['washington', 'seoul', 'new york', 'hanoi', 'tokyo']\n",
      "\n",
      "Original list:\n",
      "['tokyo', 'hanoi', 'new york', 'seoul', 'washington']\n",
      "\n",
      "Alphabetic order:\n",
      "['hanoi', 'new york', 'seoul', 'tokyo', 'washington']\n",
      "\n",
      "Reverse-alphabetical order:\n",
      "['washington', 'tokyo', 'seoul', 'new york', 'hanoi']\n"
     ]
    }
   ],
   "source": [
    "locations = ['tokyo', 'hanoi', 'new york', 'seoul', 'washington']\n",
    "print(\"Original list:\")\n",
    "print(locations)\n",
    "\n",
    "print(\"\\nSorted list in alphabetic order:\")\n",
    "print(sorted(locations))\n",
    "\n",
    "print(\"\\nOriginal list:\")\n",
    "print(locations)\n",
    "\n",
    "locations.reverse()\n",
    "print(\"\\nReverse order\")\n",
    "print(locations)\n",
    "\n",
    "locations.reverse()\n",
    "print(\"\\nOriginal list:\")\n",
    "print(locations)\n",
    "\n",
    "locations.sort()\n",
    "print(\"\\nAlphabetic order:\")\n",
    "print(locations)\n",
    "\n",
    "locations.sort(reverse = True)\n",
    "print(\"\\nReverse-alphabetical order:\")\n",
    "print(locations)"
   ]
  },
  {
   "cell_type": "markdown",
   "id": "a8a04654",
   "metadata": {},
   "source": [
    "3-9. Dinner Guests: Working with one of the programs from Exercises 3-4 through 3-7 (pages 41–42), use len() to print a message indicating the number of people you’re inviting to dinner."
   ]
  },
  {
   "cell_type": "code",
   "execution_count": 31,
   "id": "4e07bbe9",
   "metadata": {},
   "outputs": [
    {
     "name": "stdout",
     "output_type": "stream",
     "text": [
      "I will invite 3 to dinner\n"
     ]
    }
   ],
   "source": [
    "guests = ['jill', 'nhan', 'linh']\n",
    "print(\"I will invite \" + str(len(guests)) + \" to dinner\")"
   ]
  },
  {
   "cell_type": "markdown",
   "id": "f46b6ec5",
   "metadata": {},
   "source": [
    "3-10. Every Function: Think of things you could store in a list. For example, you could make a list of mountains, rivers, countries, cities, languages, or anything else you’d like. Write a program that creates a list containing these items and then uses each function introduced in this chapter at least once."
   ]
  },
  {
   "cell_type": "code",
   "execution_count": 41,
   "id": "0415a20e",
   "metadata": {},
   "outputs": [
    {
     "name": "stdout",
     "output_type": "stream",
     "text": [
      "Mount Everest\n",
      "Annapurna\n",
      "I want to go to Mount Everest.\n",
      "['Denali', 'K2', 'Kangchenjunga', 'Lhotse', 'Makalu', 'Cho Oyu', 'Dhaulagiri', 'Manaslu', 'Nanga Parbat', 'Annapurna']\n",
      "['Denali', 'K2', 'Kangchenjunga', 'Lhotse', 'Makalu', 'Cho Oyu', 'Dhaulagiri', 'Manaslu', 'Nanga Parbat', 'Annapurna', 'Vinson Massif']\n",
      "['K2', 'Kangchenjunga', 'Lhotse', 'Makalu', 'Cho Oyu', 'Dhaulagiri', 'Manaslu', 'Nanga Parbat', 'Annapurna', 'Vinson Massif']\n",
      "Vinson Massif\n",
      "['Annapurna', 'Cho Oyu', 'Dhaulagiri', 'K2', 'Kangchenjunga', 'Lhotse', 'Makalu', 'Manaslu', 'Nanga Parbat']\n"
     ]
    }
   ],
   "source": [
    "# make a list of mountains\n",
    "mountains = ['Mount Everest', 'K2', 'Kangchenjunga', 'Lhotse', 'Makalu', 'Cho Oyu', 'Dhaulagiri', 'Manaslu', 'Nanga Parbat', 'Annapurna']\n",
    "\n",
    "# accessing elements in a list\n",
    "print(mountains[0])\n",
    "\n",
    "# ask for the item at index  -1\n",
    "print(mountains[-1])\n",
    "\n",
    "# pull the first mountain from the list and compose a message \n",
    "message = f\"I want to go to {mountains[0]}.\"\n",
    "print(message)\n",
    "\n",
    "# modifying elements in a list\n",
    "mountains[0] = 'Denali'\n",
    "print(mountains)\n",
    "\n",
    "mountains.append('Vinson Massif')\n",
    "print(mountains)\n",
    "\n",
    "del mountains[0]\n",
    "print(mountains)\n",
    "\n",
    "print(mountains.pop())\n",
    "\n",
    "print(sorted(mountains))"
   ]
  },
  {
   "cell_type": "code",
   "execution_count": null,
   "id": "5c8d5811",
   "metadata": {},
   "outputs": [],
   "source": []
  }
 ],
 "metadata": {
  "kernelspec": {
   "display_name": "Python 3 (ipykernel)",
   "language": "python",
   "name": "python3"
  },
  "language_info": {
   "codemirror_mode": {
    "name": "ipython",
    "version": 3
   },
   "file_extension": ".py",
   "mimetype": "text/x-python",
   "name": "python",
   "nbconvert_exporter": "python",
   "pygments_lexer": "ipython3",
   "version": "3.9.13"
  }
 },
 "nbformat": 4,
 "nbformat_minor": 5
}
