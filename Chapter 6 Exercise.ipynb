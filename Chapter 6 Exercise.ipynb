{
 "cells": [
  {
   "cell_type": "markdown",
   "id": "15a67aad",
   "metadata": {},
   "source": [
    "6-1. Person: Use a dictionary to store information about a person you know. Store their first name, last name, age, and the city in which they live. You should have keys such as first_name, last_name, age, and city. Print each piece of information stored in your dictionary."
   ]
  },
  {
   "cell_type": "code",
   "execution_count": 1,
   "id": "72ee7384",
   "metadata": {},
   "outputs": [
    {
     "name": "stdout",
     "output_type": "stream",
     "text": [
      "Nhan\n",
      "Hoang\n",
      "20\n",
      "Ho Chi Minh city\n"
     ]
    }
   ],
   "source": [
    "person = {'first_name': 'Nhan', 'last_name': 'Hoang', 'age': 20, 'city': 'Ho Chi Minh city' }\n",
    "print(person['first_name'])\n",
    "print(person['last_name'])\n",
    "print(person['age'])\n",
    "print(person['city'])"
   ]
  },
  {
   "cell_type": "markdown",
   "id": "ab5d4083",
   "metadata": {},
   "source": [
    "6-2. Favorite Numbers: Use a dictionary to store people’s favorite numbers. Think of five names, and use them as keys in your dictionary. Think of a favorite number for each person, and store each as a value in your dictionary. Print each person’s name and their favorite number. For even more fun, poll a few friends and get some actual data for your program."
   ]
  },
  {
   "cell_type": "code",
   "execution_count": 5,
   "id": "612af633",
   "metadata": {},
   "outputs": [
    {
     "name": "stdout",
     "output_type": "stream",
     "text": [
      "Linh favourite number is 12\n",
      "Jill favourite number is 9\n",
      "Selena favourite number is 7\n",
      "Thao favourite number is 14\n",
      "Quan favourite number is 76\n"
     ]
    }
   ],
   "source": [
    "people_fav_numbers = {'Linh': 12, 'Jill': 9, 'Selena': 7, 'Thao': 14, 'Quan': 76}\n",
    "\n",
    "num = people_fav_numbers['Linh']\n",
    "print('Linh favourite number is ' + str(num))\n",
    "\n",
    "num = people_fav_numbers['Jill']\n",
    "print('Jill favourite number is ' + str(num))\n",
    "\n",
    "num = people_fav_numbers['Selena']\n",
    "print('Selena favourite number is ' + str(num))\n",
    "\n",
    "num = people_fav_numbers['Thao']\n",
    "print('Thao favourite number is ' + str(num))\n",
    "\n",
    "num = people_fav_numbers['Quan']\n",
    "print('Quan favourite number is ' + str(num))"
   ]
  },
  {
   "cell_type": "markdown",
   "id": "8f48f1eb",
   "metadata": {},
   "source": [
    "6-3. Glossary: A Python dictionary can be used to model an actual dictionary. However, to avoid confusion, let’s call it a glossary.\n",
    "\n",
    "- Think of five programming words you’ve learned about in the previous chapters. Use these words as the keys in your glossary, and store their meanings as values.\n",
    "- Print each word and its meaning as neatly formatted output. You might print the word followed by a colon and then its meaning, or print the word on one line and then print its meaning indented on a second line. Use the newline character (\\n) to insert a blank line between each word-meaning pair in your output."
   ]
  },
  {
   "cell_type": "code",
   "execution_count": 6,
   "id": "167a7094",
   "metadata": {},
   "outputs": [
    {
     "name": "stdout",
     "output_type": "stream",
     "text": [
      "\n",
      "String:A series of characters.\n",
      "\n",
      "Comment:A note in a program that the Python interpreter ignores.\n",
      "\n",
      "List:A collection of items in a particular order.\n",
      "\n",
      "Loop:Work through a collection of items, one at a time.\n",
      "\n",
      "Dictionary:A collection of key-value pairs.\n"
     ]
    }
   ],
   "source": [
    "glossary = {\n",
    "    'string': 'A series of characters.',\n",
    "    'comment': 'A note in a program that the Python interpreter ignores.',\n",
    "    'list': 'A collection of items in a particular order.',\n",
    "    'loop': 'Work through a collection of items, one at a time.',\n",
    "    'dictionary': 'A collection of key-value pairs.',\n",
    "}\n",
    "\n",
    "word = 'string'\n",
    "print(\"\\n\" + word.title() + \":\" + glossary[word])\n",
    "\n",
    "word = 'comment'\n",
    "print(\"\\n\" + word.title() + \":\" + glossary[word])\n",
    "\n",
    "word = 'list'\n",
    "print(\"\\n\" + word.title() + \":\" + glossary[word])\n",
    "\n",
    "word = 'loop'\n",
    "print(\"\\n\" + word.title() + \":\" + glossary[word])\n",
    "\n",
    "word = 'dictionary'\n",
    "print(\"\\n\" + word.title() + \":\" + glossary[word])"
   ]
  },
  {
   "cell_type": "markdown",
   "id": "8498416e",
   "metadata": {},
   "source": [
    "6-4. Glossary 2: Now that you know how to loop through a dictionary, clean up the code from Exercise 6-3 (page 99) by replacing your series of print() calls with a loop that runs through the dictionary’s keys and values. When you’re sure that your loop works, add five more Python terms to your glossary. When you run your program again, these new words and meanings should automatically be included in the output."
   ]
  },
  {
   "cell_type": "code",
   "execution_count": 1,
   "id": "95d189c7",
   "metadata": {},
   "outputs": [
    {
     "name": "stdout",
     "output_type": "stream",
     "text": [
      "\n",
      "String: A series of characters.\n",
      "\n",
      "Comment: A note in a program that the Python interpreter ignores.\n",
      "\n",
      "List: A collection of items in a particular order.\n",
      "\n",
      "Loop: Work through a collection of items, one at a time.\n",
      "\n",
      "Dictionary: A collection of key-value pairs.\n",
      "\n",
      "Key: The first item in a key-value pair in a dictionary.\n",
      "\n",
      "Value: An item associated with a key in a dictionary.\n",
      "\n",
      "Conditional Test: A comparison between two values.\n",
      "\n",
      "Float: A numerical value with a decimal component.\n",
      "\n",
      "Boolean Expression: An expression that evaluates to True or False.\n"
     ]
    }
   ],
   "source": [
    "glossary = {\n",
    "    'string': 'A series of characters.',\n",
    "    'comment': 'A note in a program that the Python interpreter ignores.',\n",
    "    'list': 'A collection of items in a particular order.',\n",
    "    'loop': 'Work through a collection of items, one at a time.',\n",
    "    'dictionary':'A collection of key-value pairs.',\n",
    "    'key': 'The first item in a key-value pair in a dictionary.',\n",
    "    'value': 'An item associated with a key in a dictionary.',\n",
    "    'conditional test': 'A comparison between two values.',\n",
    "    'float':'A numerical value with a decimal component.',\n",
    "    'boolean expression': 'An expression that evaluates to True or False.',\n",
    "}\n",
    "\n",
    "for word, definition in glossary.items():\n",
    "    print(\"\\n\" + word.title() + \": \" + definition)"
   ]
  },
  {
   "cell_type": "markdown",
   "id": "5b8fe706",
   "metadata": {},
   "source": [
    "6-5. Rivers: Make a dictionary containing three major rivers and the country each river runs through. One key-value pair might be 'nile': 'egypt'.\n",
    "\n",
    "- Use a loop to print a sentence about each river, such as The Nile runs through Egypt.\n",
    "- Use a loop to print the name of each river included in the dictionary.\n",
    "- Use a loop to print the name of each country included in the dictionary."
   ]
  },
  {
   "cell_type": "code",
   "execution_count": 1,
   "id": "44cdd5ec",
   "metadata": {},
   "outputs": [
    {
     "name": "stdout",
     "output_type": "stream",
     "text": [
      "TheNileflows throughEgypt.\n",
      "TheMississippiflows throughUnited States.\n",
      "TheFraserflows throughCanada.\n",
      "TheKuskokwimflows throughAlaska.\n",
      "TheYangtzeflows throughChina.\n",
      "\n",
      "The following rivers are included in this data set:\n",
      "-Nile\n",
      "-Mississippi\n",
      "-Fraser\n",
      "-Kuskokwim\n",
      "-Yangtze\n",
      "\n",
      "The following countries are included in this data set:\n",
      "-Egypt\n",
      "-United States\n",
      "-Canada\n",
      "-Alaska\n",
      "-China\n"
     ]
    }
   ],
   "source": [
    "rivers = {\n",
    "    'nile':'egypt',\n",
    "    'mississippi':'united states',\n",
    "    'fraser':'canada',\n",
    "    'kuskokwim':'alaska',\n",
    "    'yangtze':'china'\n",
    "}\n",
    "for river, country in rivers.items():\n",
    "    print(\"The\" + river.title() + \"flows through\" + country.title() + \".\")\n",
    "\n",
    "print(\"\\nThe following rivers are included in this data set:\")\n",
    "for river in rivers.keys():\n",
    "    print(\"-\" + river.title())\n",
    "\n",
    "print(\"\\nThe following countries are included in this data set:\")\n",
    "for country in rivers.values():\n",
    "    print(\"-\" + country.title())"
   ]
  },
  {
   "cell_type": "markdown",
   "id": "eb90fd08",
   "metadata": {},
   "source": [
    "6-6. Polling: Use the code in favorite_languages.py (page 96).\n",
    "\n",
    "- Make a list of people who should take the favorite languages poll. Include some names that are already in the dictionary and some that are not.\n",
    "- Loop through the list of people who should take the poll. If they have already taken the poll, print a message thanking them for responding. If they have not yet taken the poll, print a message inviting them to take the poll."
   ]
  },
  {
   "cell_type": "code",
   "execution_count": 8,
   "id": "4f92e2e6",
   "metadata": {},
   "outputs": [
    {
     "name": "stdout",
     "output_type": "stream",
     "text": [
      "Jen's favorite language is Python.\n",
      "Sarah's favorite language is C.\n",
      "Edward's favorite language is Ruby.\n",
      "Phil's favorite language is Python.\n",
      "\n",
      "\n",
      "Thank you for taking the poll,Phil!\n",
      "Josh, what's your favorite programming language?\n",
      "David, what's your favorite programming language?\n",
      "Becca, what's your favorite programming language?\n",
      "Thank you for taking the poll,Sarah!\n",
      "Matt, what's your favorite programming language?\n",
      "Danielle, what's your favorite programming language?\n"
     ]
    }
   ],
   "source": [
    "favorite_languages = {\n",
    "    'jen': 'python',\n",
    "    'sarah': 'c',\n",
    "    'edward': 'ruby',\n",
    "    'phil': 'python',\n",
    "    }\n",
    "for name, language in favorite_languages.items():\n",
    "    print(name.title() + \"'s favorite language is \" + \n",
    "         language.title() + \".\")\n",
    "print(\"\\n\")\n",
    "coders = ['phil', 'josh', 'david', 'becca', 'sarah', 'matt', 'danielle']\n",
    "for coder in coders:\n",
    "    if coder in favorite_languages.keys():\n",
    "        print(\"Thank you for taking the poll,\" + coder.title() + \"!\")\n",
    "    else:\n",
    "        print(coder.title() + \", what's your favorite programming language?\")"
   ]
  },
  {
   "cell_type": "markdown",
   "id": "c3f45e41",
   "metadata": {},
   "source": [
    "6-7. People: Start with the program you wrote for Exercise 6-1 (page 98). Make two new dictionaries representing different people, and store all three dictionaries in a list called people. Loop through your list of people. As you loop through the list, print everything you know about each person."
   ]
  },
  {
   "cell_type": "code",
   "execution_count": 4,
   "id": "d149f225",
   "metadata": {},
   "outputs": [
    {
     "name": "stdout",
     "output_type": "stream",
     "text": [
      "Eric Matthes, of Sitka, is 43 years old.\n",
      "Ever Matthes, of Sitka, is 5 years old.\n",
      "Willie Matthes, of Sitka, is 8 years old.\n"
     ]
    }
   ],
   "source": [
    "# Make an empty list to store people in\n",
    "people = []\n",
    "\n",
    "# Define some people, and add them to the list\n",
    "person = {\n",
    "    'first_name':'eric',\n",
    "    'last_name':'matthes',\n",
    "    'age':43,\n",
    "    'city':'sitka',\n",
    "}\n",
    "people.append(person)\n",
    "\n",
    "person = {\n",
    "    'first_name':'ever',\n",
    "    'last_name': 'matthes',\n",
    "    'age': 5,\n",
    "    'city':'sitka',\n",
    "}\n",
    "\n",
    "people.append(person)\n",
    "\n",
    "person = {\n",
    "    'first_name':'willie',\n",
    "    'last_name':'matthes',\n",
    "    'age':8,\n",
    "    'city':'sitka',\n",
    "}\n",
    "people.append(person)\n",
    "\n",
    "# Display all of the information in the dictionary\n",
    "for person in people:\n",
    "    name = person['first_name'].title() + \" \"+ person['last_name'].title()\n",
    "    age = str(person['age'])\n",
    "    city = person['city'].title()\n",
    "    \n",
    "    print(name + \", of \" + city + \", is \" + age + \" years old.\")"
   ]
  },
  {
   "cell_type": "markdown",
   "id": "112866bd",
   "metadata": {},
   "source": [
    "6-8. Pets: Make several dictionaries, where each dictionary represents a different pet. In each dictionary, include the kind of animal and the owner’s name. Store these dictionaries in a list called pets. Next, loop through your list and as you do, print everything you know about each pet."
   ]
  },
  {
   "cell_type": "code",
   "execution_count": 6,
   "id": "501a6c45",
   "metadata": {},
   "outputs": [
    {
     "name": "stdout",
     "output_type": "stream",
     "text": [
      "\n",
      "Here's what I know aboutJohn:\n",
      "\tanimal type:python\n",
      "\tname:john\n",
      "\towner:guido\n",
      "\tweight:43\n",
      "\teats:bugs\n",
      "\n",
      "Here's what I know aboutClarence:\n",
      "\tanimal type:chicken\n",
      "\tname:clarence\n",
      "\towner:tiffany\n",
      "\tweight:2\n",
      "\teats:seeds\n",
      "\n",
      "Here's what I know aboutPeso:\n",
      "\tanimal type:dog\n",
      "\tname:peso\n",
      "\towner:eric\n",
      "\tweight:37\n",
      "\teats:shoes\n"
     ]
    }
   ],
   "source": [
    "# Make an empty list to store the pets in\n",
    "pets = []\n",
    "\n",
    "# Make individual pets, and store each one in the lsit\n",
    "pet = {\n",
    "    'animal type': 'python',\n",
    "    'name': 'john',\n",
    "    'owner': 'guido',\n",
    "    'weight': 43,\n",
    "    'eats': 'bugs',\n",
    "}\n",
    "pets.append(pet)\n",
    "\n",
    "pet = {\n",
    "    'animal type':'chicken',\n",
    "    'name':'clarence',\n",
    "    'owner':'tiffany',\n",
    "    'weight': 2,\n",
    "    'eats': 'seeds',\n",
    "}\n",
    "pets.append(pet)\n",
    "\n",
    "pet = {\n",
    "    'animal type': 'dog',\n",
    "    'name': 'peso',\n",
    "    'owner':'eric',\n",
    "    'weight': 37,\n",
    "    'eats':'shoes',\n",
    "}\n",
    "pets.append(pet)\n",
    "\n",
    "# Display information about each pet\n",
    "for pet in pets:\n",
    "    print(\"\\nHere's what I know about\" + pet['name'].title() + \":\")\n",
    "    for key, value in pet.items():\n",
    "        print(\"\\t\" + key + \":\" + str(value))"
   ]
  },
  {
   "cell_type": "markdown",
   "id": "47e3ed5b",
   "metadata": {},
   "source": [
    "6-9. Favorite Places: Make a dictionary called favorite_places. Think of three names to use as keys in the dictionary, and store one to three favorite places for each person. To make this exercise a bit more interesting, ask some friends to name a few of their favorite places. Loop through the dictionary, and print each person’s name and their favorite places."
   ]
  },
  {
   "cell_type": "code",
   "execution_count": 7,
   "id": "9411f940",
   "metadata": {},
   "outputs": [
    {
     "name": "stdout",
     "output_type": "stream",
     "text": [
      "\n",
      "Johnlikes the following places:\n",
      "\tBear Mountain\n",
      "\tDeath Valley\n",
      "\tTierra Del Fuego\n",
      "\n",
      "Erinlikes the following places:\n",
      "\tHawaii\n",
      "\tIceland\n",
      "\n",
      "Everlikes the following places:\n",
      "\tMt.Verstovia\n",
      "\tThe Playground\n",
      "\tSouth Carolina\n"
     ]
    }
   ],
   "source": [
    "favorite_places = {\n",
    "    'john':['bear mountain', 'death valley', 'tierra del fuego'],\n",
    "    'erin':['hawaii', 'iceland'],\n",
    "    'ever': ['mt.verstovia', 'the playground', 'south carolina']\n",
    "}\n",
    "\n",
    "for name, places in favorite_places.items():\n",
    "    print(\"\\n\" + name.title() + \"likes the following places:\")\n",
    "    for place in places:\n",
    "        print(f\"\\t{place.title()}\")"
   ]
  },
  {
   "cell_type": "markdown",
   "id": "8b8df191",
   "metadata": {},
   "source": [
    "6-10. Favorite Numbers: Modify your program from Exercise 6-2 (page 98) so each person can have more than one favorite number. Then print each person’s name along with their favorite numbers."
   ]
  },
  {
   "cell_type": "code",
   "execution_count": 1,
   "id": "227e611b",
   "metadata": {},
   "outputs": [
    {
     "name": "stdout",
     "output_type": "stream",
     "text": [
      "\n",
      "Mandyliles the following numbers:\n",
      " 42\n",
      " 17\n",
      "\n",
      "Micahliles the following numbers:\n",
      " 42\n",
      " 39\n",
      " 56\n",
      "\n",
      "Gusliles the following numbers:\n",
      " 7\n",
      " 12\n"
     ]
    }
   ],
   "source": [
    "favorite_numbers = {\n",
    "    'mandy':[42, 17],\n",
    "    'micah':[42, 39, 56],\n",
    "    'gus':[7 ,12],\n",
    "}\n",
    "for name, numbers in favorite_numbers.items():\n",
    "    print(\"\\n\" + name.title() + \"liles the following numbers:\")\n",
    "    for number in numbers:\n",
    "        print(\" \" + str(number))"
   ]
  },
  {
   "cell_type": "markdown",
   "id": "ff057b98",
   "metadata": {},
   "source": [
    "6-11. Cities: Make a dictionary called cities. Use the names of three cities as keys in your dictionary. Create a dictionary of information about each city and include the country that the city is in, its approximate population, and one fact about that city. The keys for each city’s dictionary should be something like country, population, and fact. Print the name of each city and all of the information you have stored about it."
   ]
  },
  {
   "cell_type": "code",
   "execution_count": 3,
   "id": "33436086",
   "metadata": {},
   "outputs": [
    {
     "name": "stdout",
     "output_type": "stream",
     "text": [
      "\n",
      "Santiagois inChile.\n",
      " It has a population of about 6158080.\n",
      " The Andesmountains are nearby.\n",
      "\n",
      "Talkeetnais inAlaska.\n",
      " It has a population of about 876.\n",
      " The Alaska Rangemountains are nearby.\n",
      "\n",
      "Kathmanduis inNepal.\n",
      " It has a population of about 1003285.\n",
      " The Himalayamountains are nearby.\n"
     ]
    }
   ],
   "source": [
    "cities = {\n",
    "    'santiago': {\n",
    "        'country': 'chile',\n",
    "        'population': 6158080,\n",
    "        'nearby mountains': 'andes',\n",
    "    },\n",
    "    'talkeetna':{\n",
    "        'country':'alaska',\n",
    "        'population': 876,\n",
    "        'nearby mountains':'alaska range',\n",
    "    },\n",
    "    'kathmandu':{\n",
    "        'country': 'nepal',\n",
    "        'population': 1003285,\n",
    "        'nearby mountains':'himalaya',\n",
    "    }\n",
    "}\n",
    "\n",
    "for city, city_info in cities.items():\n",
    "    country = city_info['country'].title()\n",
    "    population = city_info['population']\n",
    "    mountains = city_info['nearby mountains'].title()\n",
    "    \n",
    "    print(\"\\n\" + city.title() + \"is in\" + country + \".\")\n",
    "    print(\" It has a population of about \" + str(population) + \".\")\n",
    "    print(\" The \" + mountains + \"mountains are nearby.\")"
   ]
  },
  {
   "cell_type": "code",
   "execution_count": null,
   "id": "934b32b2",
   "metadata": {},
   "outputs": [],
   "source": []
  }
 ],
 "metadata": {
  "kernelspec": {
   "display_name": "Python 3 (ipykernel)",
   "language": "python",
   "name": "python3"
  },
  "language_info": {
   "codemirror_mode": {
    "name": "ipython",
    "version": 3
   },
   "file_extension": ".py",
   "mimetype": "text/x-python",
   "name": "python",
   "nbconvert_exporter": "python",
   "pygments_lexer": "ipython3",
   "version": "3.9.13"
  }
 },
 "nbformat": 4,
 "nbformat_minor": 5
}
