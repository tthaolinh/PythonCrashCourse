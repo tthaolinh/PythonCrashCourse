{
 "cells": [
  {
   "cell_type": "markdown",
   "id": "bd61f517",
   "metadata": {},
   "source": [
    "5-1. Conditional Tests: Write a series of conditional tests. Print a statement describing each test and your prediction for the results of each test. Your code should look something like this:\n",
    "- Look closely at your results, and make sure you understand why each line evaluates to True or False.\n",
    "- Create at least 10 tests. Have at least 5 tests evaluate to True and another 5 tests evaluate to False."
   ]
  },
  {
   "cell_type": "code",
   "execution_count": 1,
   "id": "1e1b5172",
   "metadata": {},
   "outputs": [
    {
     "name": "stdout",
     "output_type": "stream",
     "text": [
      "Is car == 'subaru'? I predict True.\n",
      "True\n",
      "\n",
      "Is car == 'audi'? I predict False.\n",
      "False\n"
     ]
    }
   ],
   "source": [
    "car = 'subaru'\n",
    "print(\"Is car == 'subaru'? I predict True.\")\n",
    "print(car == 'subaru')\n",
    "\n",
    "print(\"\\nIs car == 'audi'? I predict False.\")\n",
    "print(car == 'audi')"
   ]
  },
  {
   "cell_type": "code",
   "execution_count": 3,
   "id": "d8c25f9e",
   "metadata": {},
   "outputs": [
    {
     "name": "stdout",
     "output_type": "stream",
     "text": [
      "Is pizza == 'cheese'? I predict True.\n",
      "True\n",
      "\n",
      "Is pizza == 'hawaii'? I predict False.\n",
      "False\n"
     ]
    }
   ],
   "source": [
    "pizza = 'cheese'\n",
    "print(\"Is pizza == 'cheese'? I predict True.\")\n",
    "print(pizza == 'cheese')\n",
    "\n",
    "print(\"\\nIs pizza == 'hawaii'? I predict False.\")\n",
    "print(pizza == 'hawaii')"
   ]
  },
  {
   "cell_type": "code",
   "execution_count": 4,
   "id": "e718636d",
   "metadata": {},
   "outputs": [
    {
     "name": "stdout",
     "output_type": "stream",
     "text": [
      "True\n",
      "False\n"
     ]
    }
   ],
   "source": [
    "pet = 'cat'\n",
    "print(pet == 'cat')\n",
    "print(pet == 'dog')"
   ]
  },
  {
   "cell_type": "code",
   "execution_count": 5,
   "id": "a7c2a2f8",
   "metadata": {},
   "outputs": [
    {
     "name": "stdout",
     "output_type": "stream",
     "text": [
      "True\n",
      "False\n"
     ]
    }
   ],
   "source": [
    "city = 'New York'\n",
    "print(city == 'New York')\n",
    "print(city == 'Tokyo')"
   ]
  },
  {
   "cell_type": "code",
   "execution_count": 6,
   "id": "78964371",
   "metadata": {},
   "outputs": [
    {
     "name": "stdout",
     "output_type": "stream",
     "text": [
      "True\n",
      "False\n"
     ]
    }
   ],
   "source": [
    "fruit = 'watermelon'\n",
    "print(fruit == 'watermelon')\n",
    "print(fruit == 'banana')"
   ]
  },
  {
   "cell_type": "markdown",
   "id": "8cb4d430",
   "metadata": {},
   "source": [
    "5-2. More Conditional Tests: You don’t have to limit the number of tests you create to 10. If you want to try more comparisons, write more tests and add them to conditional_tests.py. Have at least one True and one False result for each of the following:\n",
    "\n",
    "- Tests for equality and inequality with strings\n",
    "- Tests using the lower() method\n",
    "- Numerical tests involving equality and inequality, greater than and less than, greater than or equal to, and less than or equal to\n",
    "- Tests using the and keyword and the or keyword\n",
    "- Test whether an item is in a list\n",
    "- Test whether an item is not in a list"
   ]
  },
  {
   "cell_type": "code",
   "execution_count": 7,
   "id": "f23e8a1a",
   "metadata": {},
   "outputs": [
    {
     "name": "stdout",
     "output_type": "stream",
     "text": [
      "True\n",
      "False\n"
     ]
    }
   ],
   "source": [
    "# Tests for equality and inequality with strings\n",
    "car = 'audi'\n",
    "print(car == 'audi')\n",
    "print(car != 'audi')"
   ]
  },
  {
   "cell_type": "code",
   "execution_count": 11,
   "id": "95e28230",
   "metadata": {},
   "outputs": [
    {
     "name": "stdout",
     "output_type": "stream",
     "text": [
      "True\n",
      "False\n"
     ]
    }
   ],
   "source": [
    "# Tests using the lower() method\n",
    "car = 'Audi'\n",
    "print(car.lower() == 'audi')\n",
    "print(car.lower() == 'Audi')"
   ]
  },
  {
   "cell_type": "code",
   "execution_count": 13,
   "id": "be60df30",
   "metadata": {},
   "outputs": [
    {
     "name": "stdout",
     "output_type": "stream",
     "text": [
      "True\n",
      "False\n",
      "False\n",
      "True\n",
      "True\n",
      "False\n"
     ]
    }
   ],
   "source": [
    "# Numerical tests involving equality and inequality greater than and less than, greater than or equal to, and less than or equal to\n",
    "val = 11\n",
    "print(val == 11)\n",
    "print(val != 11)\n",
    "print(val > 13)\n",
    "print(val < 13)\n",
    "print(val >= 10)\n",
    "print(val <= 10)"
   ]
  },
  {
   "cell_type": "code",
   "execution_count": 14,
   "id": "b68f2983",
   "metadata": {},
   "outputs": [
    {
     "data": {
      "text/plain": [
       "True"
      ]
     },
     "execution_count": 14,
     "metadata": {},
     "output_type": "execute_result"
    }
   ],
   "source": [
    "# Test using the and keyword and the or keyword\n",
    "val1 = 12\n",
    "val2  = 15\n",
    "(val1 >= 10) and (val2 <= 20)"
   ]
  },
  {
   "cell_type": "code",
   "execution_count": 15,
   "id": "fcc42166",
   "metadata": {},
   "outputs": [
    {
     "data": {
      "text/plain": [
       "False"
      ]
     },
     "execution_count": 15,
     "metadata": {},
     "output_type": "execute_result"
    }
   ],
   "source": [
    "val1 = 12\n",
    "val2  = 15\n",
    "(val1 >= 13) and (val2 <= 20)"
   ]
  },
  {
   "cell_type": "code",
   "execution_count": 16,
   "id": "30e27812",
   "metadata": {},
   "outputs": [
    {
     "data": {
      "text/plain": [
       "True"
      ]
     },
     "execution_count": 16,
     "metadata": {},
     "output_type": "execute_result"
    }
   ],
   "source": [
    "val1 = 12\n",
    "val2  = 15\n",
    "(val1 >= 13) or (val2 <= 20)"
   ]
  },
  {
   "cell_type": "code",
   "execution_count": 18,
   "id": "8dc50076",
   "metadata": {},
   "outputs": [
    {
     "data": {
      "text/plain": [
       "False"
      ]
     },
     "execution_count": 18,
     "metadata": {},
     "output_type": "execute_result"
    }
   ],
   "source": [
    "val1 = 12\n",
    "val2  = 15\n",
    "(val1 >= 13) or (val2 <= 10)"
   ]
  },
  {
   "cell_type": "code",
   "execution_count": 20,
   "id": "70ac0531",
   "metadata": {},
   "outputs": [
    {
     "data": {
      "text/plain": [
       "True"
      ]
     },
     "execution_count": 20,
     "metadata": {},
     "output_type": "execute_result"
    }
   ],
   "source": [
    "# Test whether an item is in a list\n",
    "city = ['New York', 'Tokyo', 'Seoul', 'Ho Chi Minh']\n",
    "'New York' in city"
   ]
  },
  {
   "cell_type": "code",
   "execution_count": 21,
   "id": "6b0658b9",
   "metadata": {},
   "outputs": [
    {
     "data": {
      "text/plain": [
       "False"
      ]
     },
     "execution_count": 21,
     "metadata": {},
     "output_type": "execute_result"
    }
   ],
   "source": [
    "city = ['New York', 'Tokyo', 'Seoul', 'Ho Chi Minh']\n",
    "'Texas' in city"
   ]
  },
  {
   "cell_type": "code",
   "execution_count": 22,
   "id": "c7097a9e",
   "metadata": {},
   "outputs": [
    {
     "data": {
      "text/plain": [
       "True"
      ]
     },
     "execution_count": 22,
     "metadata": {},
     "output_type": "execute_result"
    }
   ],
   "source": [
    "# Test whether an item is not in a list\n",
    "city = ['New York', 'Tokyo', 'Seoul', 'Ho Chi Minh']\n",
    "'Texas' not in city"
   ]
  },
  {
   "cell_type": "code",
   "execution_count": 23,
   "id": "451628d1",
   "metadata": {},
   "outputs": [
    {
     "data": {
      "text/plain": [
       "False"
      ]
     },
     "execution_count": 23,
     "metadata": {},
     "output_type": "execute_result"
    }
   ],
   "source": [
    "city = ['New York', 'Tokyo', 'Seoul', 'Ho Chi Minh']\n",
    "'New York' not in city"
   ]
  },
  {
   "cell_type": "markdown",
   "id": "a34560cf",
   "metadata": {},
   "source": [
    "5-3. Alien Colors #1: Imagine an alien was just shot down in a game. Create a variable called alien_color and assign it a value of 'green', 'yellow', or 'red'.\n",
    "\n",
    "- Write an if statement to test whether the alien’s color is green. If it is, print a message that the player just earned 5 points.\n",
    "- Write one version of this program that passes the if test and another that fails. (The version that fails will have no output.)"
   ]
  },
  {
   "cell_type": "code",
   "execution_count": 25,
   "id": "75efd015",
   "metadata": {},
   "outputs": [
    {
     "name": "stdout",
     "output_type": "stream",
     "text": [
      "You just earned 5 points\n"
     ]
    }
   ],
   "source": [
    "alien_color = 'green'\n",
    "\n",
    "if alien_color == 'green':\n",
    "    print('You just earned 5 points')"
   ]
  },
  {
   "cell_type": "code",
   "execution_count": 27,
   "id": "088cbac4",
   "metadata": {},
   "outputs": [],
   "source": [
    "alien_color = 'green'\n",
    "\n",
    "if alien_color == 'yellow':\n",
    "    print('You just earned 5 points')"
   ]
  },
  {
   "cell_type": "markdown",
   "id": "e17d71da",
   "metadata": {},
   "source": [
    "5-4. Alien Colors #2: Choose a color for an alien as you did in Exercise 5-3, and write an if-else chain.\n",
    "\n",
    "- If the alien’s color is green, print a statement that the player just earned 5 points for shooting the alien.\n",
    "- If the alien’s color isn’t green, print a statement that the player just earned 10 points.\n",
    "- Write one version of this program that runs the if block and another that runs the else block."
   ]
  },
  {
   "cell_type": "code",
   "execution_count": 28,
   "id": "9dcacb49",
   "metadata": {},
   "outputs": [
    {
     "name": "stdout",
     "output_type": "stream",
     "text": [
      "You just earned 5 points\n"
     ]
    }
   ],
   "source": [
    "alien_color = 'green'\n",
    "\n",
    "if alien_color == 'green':\n",
    "    print('You just earned 5 points')\n",
    "else:\n",
    "    print('You just earned 10 points')"
   ]
  },
  {
   "cell_type": "code",
   "execution_count": 29,
   "id": "ca293fd5",
   "metadata": {},
   "outputs": [
    {
     "name": "stdout",
     "output_type": "stream",
     "text": [
      "You just earned 10 points\n"
     ]
    }
   ],
   "source": [
    "alien_color = 'yellow'\n",
    "\n",
    "if alien_color == 'green':\n",
    "    print('You just earned 5 points')\n",
    "else:\n",
    "    print('You just earned 10 points')"
   ]
  },
  {
   "cell_type": "markdown",
   "id": "77a0e992",
   "metadata": {},
   "source": [
    "5-5. Alien Colors #3: Turn your if-else chain from Exercise 5-4 into an if-elif-else chain.\n",
    "\n",
    "- If the alien is green, print a message that the player earned 5 points.\n",
    "- If the alien is yellow, print a message that the player earned 10 points.\n",
    "- If the alien is red, print a message that the player earned 15 points.\n",
    "- Write three versions of this program, making sure each message is printed for the appropriate color alien."
   ]
  },
  {
   "cell_type": "code",
   "execution_count": 34,
   "id": "93613184",
   "metadata": {},
   "outputs": [
    {
     "name": "stdout",
     "output_type": "stream",
     "text": [
      "You just earned 5 points\n"
     ]
    }
   ],
   "source": [
    "alien_color = 'green'\n",
    "if 'green' in alien_color:\n",
    "    print('You just earned 5 points')\n",
    "elif 'yellow' in alien_color:\n",
    "    print('You just earned 10 points')\n",
    "elif 'red' in alien_color:\n",
    "    print('You just earned 15 points')"
   ]
  },
  {
   "cell_type": "markdown",
   "id": "c2362e4e",
   "metadata": {},
   "source": [
    "5-6. Stages of Life: Write an if-elif-else chain that determines a person’s stage of life. Set a value for the variable age, and then:\n",
    "\n",
    "- If the person is less than 2 years old, print a message that the person is a baby.\n",
    "- If the person is at least 2 years old but less than 4, print a message that the person is a toddler.\n",
    "- If the person is at least 4 years old but less than 13, print a message that the person is a kid.\n",
    "- If the person is at least 13 years old but less than 20, print a message that the person is a teenager.\n",
    "- If the person is at least 20 years old but less than 65, print a message that the person is an adult.\n",
    "- If the person is age 65 or older, print a message that the person is an elder"
   ]
  },
  {
   "cell_type": "code",
   "execution_count": 35,
   "id": "9a4e8c5c",
   "metadata": {},
   "outputs": [
    {
     "name": "stdout",
     "output_type": "stream",
     "text": [
      "You are an adult\n"
     ]
    }
   ],
   "source": [
    "age = 30\n",
    "\n",
    "if age < 2:\n",
    "    val = 'a baby'\n",
    "elif age >= 2 and age < 4:\n",
    "    val = 'a toddler'\n",
    "elif age >= 4 and age < 13:\n",
    "    val = 'a kid'\n",
    "elif age >= 13 and age < 20:\n",
    "    val = 'a teenager'\n",
    "elif age >= 20 and age < 65:\n",
    "    val = 'an adult'\n",
    "elif age > 65:\n",
    "    val = 'an elder'\n",
    "print(f\"You are {val}\")"
   ]
  },
  {
   "cell_type": "markdown",
   "id": "6ce56a52",
   "metadata": {},
   "source": [
    "5-7. Favorite Fruit: Make a list of your favorite fruits, and then write a series of independent if statements that check for certain fruits in your list.\n",
    "\n",
    "- Make a list of your three favorite fruits and call it favorite_fruits.\n",
    "- Write five if statements. Each should check whether a certain kind of fruit is in your list. If the fruit is in your list, the if block should print a statement, such as You really like bananas!is "
   ]
  },
  {
   "cell_type": "code",
   "execution_count": 37,
   "id": "5c1d8169",
   "metadata": {},
   "outputs": [
    {
     "name": "stdout",
     "output_type": "stream",
     "text": [
      "You really like apple\n",
      "You really like banana\n",
      "You really like watermelon\n"
     ]
    }
   ],
   "source": [
    "favorite_fruits = ['apple', 'banana', 'watermelon']\n",
    "\n",
    "if 'apple' in favorite_fruits:\n",
    "    print(f\"You really like apple\")\n",
    "if 'banana' in favorite_fruits:\n",
    "    print(f\"You really like banana\")\n",
    "if 'watermelon' in favorite_fruits:\n",
    "    print(f\"You really like watermelon\")"
   ]
  },
  {
   "cell_type": "markdown",
   "id": "c4543146",
   "metadata": {},
   "source": [
    "5-8. Hello Admin: Make a list of five or more usernames, including the name 'admin'. Imagine you are writing code that will print a greeting to each user after they log in to a website. Loop through the list, and print a greeting to each user.\n",
    "\n",
    "- If the username is 'admin', print a special greeting, such as Hello admin, would you like to see a status report?\n",
    "- Otherwise, print a generic greeting, such as Hello Jaden, thank you for logging in again."
   ]
  },
  {
   "cell_type": "code",
   "execution_count": 5,
   "id": "68a9d74a",
   "metadata": {},
   "outputs": [
    {
     "name": "stdout",
     "output_type": "stream",
     "text": [
      "Hello admin, would you like to see a status report?\n",
      "Hello Jill, thank you for logging in again.\n",
      "Hello Jena, thank you for logging in again.\n",
      "Hello Smith, thank you for logging in again.\n",
      "Hello Jayden, thank you for logging in again.\n"
     ]
    }
   ],
   "source": [
    "usernames = ['admin', 'Jill', 'Jena', 'Smith', 'Jayden']\n",
    "\n",
    "for username in usernames:\n",
    "    if username == 'admin':\n",
    "        print('Hello admin, would you like to see a status report?')\n",
    "    else:\n",
    "        print(f'Hello {username}, thank you for logging in again.')"
   ]
  },
  {
   "cell_type": "markdown",
   "id": "746604de",
   "metadata": {},
   "source": [
    "5-9. No Users: Add an if test to hello_admin.py to make sure the list of users is not empty.\n",
    "\n",
    "- If the list is empty, print the message We need to find some users!\n",
    "- Remove all of the usernames from your list, and make sure the correct message is printed."
   ]
  },
  {
   "cell_type": "code",
   "execution_count": 9,
   "id": "a8775d4e",
   "metadata": {},
   "outputs": [
    {
     "name": "stdout",
     "output_type": "stream",
     "text": [
      "We need to find some users!\n"
     ]
    }
   ],
   "source": [
    "usernames = []\n",
    "\n",
    "if usernames:\n",
    "    for username in usernames:\n",
    "        if username == 'admin':\n",
    "            print('Hello admin, would you like to see a status report?')\n",
    "        else:\n",
    "            print(f'Hello {username}, thank you for logging in again.')\n",
    "else:\n",
    "    print(\"We need to find some users!\")"
   ]
  },
  {
   "cell_type": "markdown",
   "id": "1dff317b",
   "metadata": {},
   "source": [
    "5-10. Checking Usernames: Do the following to create a program that simulates how websites ensure that everyone has a unique username.\n",
    "\n",
    "- Make a list of five or more usernames called current_users.\n",
    "- Make another list of five usernames called new_users. Make sure one or two of the new usernames are also in the current_users list.\n",
    "- Loop through the new_users list to see if each new username has already been used. If it has, print a message that the person will need to enter a new username. If a username has not been used, print a message saying that the username is available.\n",
    "- Make sure your comparison is case insensitive. If 'John' has been used, 'JOHN' should not be accepted. (To do this, you’ll need to make a copy of current_users containing the lowercase versions of all existing users.)"
   ]
  },
  {
   "cell_type": "code",
   "execution_count": 12,
   "id": "42bfc3fd",
   "metadata": {},
   "outputs": [
    {
     "name": "stdout",
     "output_type": "stream",
     "text": [
      "Great, sarah is still available.\n",
      "Sorry Willie, that name is taken.\n",
      "Great, PHIL is still available.\n",
      "Sorry ever, that name is taken.\n",
      "Great, Iona is still available.\n"
     ]
    }
   ],
   "source": [
    "current_users = ['eric', 'willie', 'admin', 'erin', 'Ever']\n",
    "new_users = ['sarah', 'Willie', 'PHIL', 'ever', 'Iona']\n",
    "\n",
    "current_users_lower = [user.lower() for user in current_users]\n",
    "\n",
    "for new_user in new_users:\n",
    "    if new_user.lower() in current_users_lower:\n",
    "        print(\"Sorry \" + new_user + \", that name is taken.\")\n",
    "    else:\n",
    "        print(\"Great, \" + new_user + \" is still available.\")"
   ]
  },
  {
   "cell_type": "markdown",
   "id": "7b3e0a38",
   "metadata": {},
   "source": [
    "5-11. Ordinal Numbers: Ordinal numbers indicate their position in a list, such as 1st or 2nd. Most ordinal numbers end in th, except 1, 2, and 3.\n",
    "\n",
    "- Store the numbers 1 through 9 in a list.\n",
    "- Loop through the list.\n",
    "- Use an if-elif-else chain inside the loop to print the proper ordinal ending for each number. Your output should read \"1st 2nd 3rd 4th 5th 6th 7th 8th 9th\", and each result should be on a separate line."
   ]
  },
  {
   "cell_type": "code",
   "execution_count": 16,
   "id": "7ba080e6",
   "metadata": {},
   "outputs": [
    {
     "name": "stdout",
     "output_type": "stream",
     "text": [
      "1st\n",
      "2nd\n",
      "3rd\n",
      "4th\n",
      "5th\n",
      "6th\n",
      "7th\n",
      "8th\n",
      "9th\n"
     ]
    }
   ],
   "source": [
    "ordinal_numbers = list(range(1,10))\n",
    "\n",
    "for number in ordinal_numbers:\n",
    "    if number == 1:\n",
    "        print('1st')\n",
    "    elif number == 2:\n",
    "        print('2nd')\n",
    "    elif number == 3:\n",
    "        print('3rd')\n",
    "    else:\n",
    "        print(f\"{number}th\")\n",
    "        "
   ]
  },
  {
   "cell_type": "code",
   "execution_count": null,
   "id": "f3ba1cdd",
   "metadata": {},
   "outputs": [],
   "source": []
  }
 ],
 "metadata": {
  "kernelspec": {
   "display_name": "Python 3 (ipykernel)",
   "language": "python",
   "name": "python3"
  },
  "language_info": {
   "codemirror_mode": {
    "name": "ipython",
    "version": 3
   },
   "file_extension": ".py",
   "mimetype": "text/x-python",
   "name": "python",
   "nbconvert_exporter": "python",
   "pygments_lexer": "ipython3",
   "version": "3.9.13"
  }
 },
 "nbformat": 4,
 "nbformat_minor": 5
}
